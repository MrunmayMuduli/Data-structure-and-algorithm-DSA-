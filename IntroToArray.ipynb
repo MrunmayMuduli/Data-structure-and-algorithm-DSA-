{
  "nbformat": 4,
  "nbformat_minor": 0,
  "metadata": {
    "colab": {
      "name": "Untitled7.ipynb",
      "provenance": [],
      "include_colab_link": true
    },
    "kernelspec": {
      "name": "python3",
      "display_name": "Python 3"
    },
    "language_info": {
      "name": "python"
    }
  },
  "cells": [
    {
      "cell_type": "markdown",
      "metadata": {
        "id": "view-in-github",
        "colab_type": "text"
      },
      "source": [
        "<a href=\"https://colab.research.google.com/github/MrunmayMuduli/Data-structure-and-algorithm-DSA-/blob/main/IntroToArray.ipynb\" target=\"_parent\"><img src=\"https://colab.research.google.com/assets/colab-badge.svg\" alt=\"Open In Colab\"/></a>"
      ]
    },
    {
      "cell_type": "code",
      "execution_count": null,
      "metadata": {
        "id": "6H9Jaj1anUQa"
      },
      "outputs": [],
      "source": [
        "# Find the number of elements in the array which have atleast one element that is \n",
        "# bigger than themselves\n",
        "\n",
        "\n",
        "def findCount(arr):\n",
        "  # n = len(arr)\n",
        "  cnt = 0\n",
        "  # iteration_count = 0\n",
        "  # Find if we have an element bigger than the current element in the array\n",
        "  for i in arr:\n",
        "    for j in arr:\n",
        "      # iteration_count += 1\n",
        "      if j > i:\n",
        "        cnt += 1\n",
        "        break\n",
        "  # print(iteration_count)\n",
        "  return cnt\n"
      ]
    },
    {
      "cell_type": "code",
      "source": [
        "findCount([2, 5, 1, 4, 8, 0, 8, 1, 3, 8])"
      ],
      "metadata": {
        "colab": {
          "base_uri": "https://localhost:8080/"
        },
        "id": "OYWbdPCOn5fL",
        "outputId": "66d2535a-65ce-442f-c6b8-b0d29f7002d6"
      },
      "execution_count": null,
      "outputs": [
        {
          "output_type": "execute_result",
          "data": {
            "text/plain": [
              "7"
            ]
          },
          "metadata": {},
          "execution_count": 2
        }
      ]
    },
    {
      "cell_type": "code",
      "source": [
        "findCount([8, 8, 8, 8, 8, 8, 8])"
      ],
      "metadata": {
        "colab": {
          "base_uri": "https://localhost:8080/"
        },
        "id": "QKa14OD8n-Yx",
        "outputId": "12e04e09-5df5-47e2-99ec-f56f5d9e7d1a"
      },
      "execution_count": null,
      "outputs": [
        {
          "output_type": "stream",
          "name": "stdout",
          "text": [
            "49\n"
          ]
        },
        {
          "output_type": "execute_result",
          "data": {
            "text/plain": [
              "0"
            ]
          },
          "metadata": {},
          "execution_count": 4
        }
      ]
    },
    {
      "cell_type": "code",
      "source": [
        "# 1. Find max\n",
        "# 2. Count occurences of max\n",
        "# 3. Return the count of elements - count of max\n",
        "\n",
        "\n",
        "def optimisedFindCount(arr):\n",
        "  mx = 0\n",
        "  # for e in arr:\n",
        "  #   if e > mx:\n",
        "  #     mx = e\n",
        "  cnt = 0\n",
        "  for e in arr:\n",
        "    if e > mx:\n",
        "      mx = e\n",
        "      cnt = 1\n",
        "    elif mx == e:\n",
        "      cnt += 1\n",
        "  return len(arr) - cnt"
      ],
      "metadata": {
        "id": "fk5-ILnLoQB5"
      },
      "execution_count": null,
      "outputs": []
    },
    {
      "cell_type": "code",
      "source": [
        "optimisedFindCount([2, 5, 1, 4, 8, 0, 8, 1, 3, 8])"
      ],
      "metadata": {
        "colab": {
          "base_uri": "https://localhost:8080/"
        },
        "id": "pareNElkosAm",
        "outputId": "6466e129-4ada-49d6-9655-f89b47e1bf1b"
      },
      "execution_count": null,
      "outputs": [
        {
          "output_type": "execute_result",
          "data": {
            "text/plain": [
              "7"
            ]
          },
          "metadata": {},
          "execution_count": 10
        }
      ]
    },
    {
      "cell_type": "code",
      "source": [
        "def reverseSub(arr, i, j):\n",
        "  while i < j:\n",
        "    print(i, j)\n",
        "    arr[i], arr[j] = arr[j], arr[i]\n",
        "    print(arr)\n",
        "    i+=1 \n",
        "    j-=1\n",
        "  return arr"
      ],
      "metadata": {
        "id": "QyQ93ko9ou7m"
      },
      "execution_count": null,
      "outputs": []
    },
    {
      "cell_type": "code",
      "source": [
        "reverseSub([1,2, 3, 4, 5, 6, 7, 8, 9, 10], 2, 6)"
      ],
      "metadata": {
        "colab": {
          "base_uri": "https://localhost:8080/"
        },
        "id": "GgRlkFEyyRvT",
        "outputId": "0f1f0f8e-0698-49d4-87f8-21bef773dbd1"
      },
      "execution_count": null,
      "outputs": [
        {
          "output_type": "stream",
          "name": "stdout",
          "text": [
            "2 6\n",
            "[1, 2, 7, 4, 5, 6, 3, 8, 9, 10]\n",
            "3 5\n",
            "[1, 2, 7, 6, 5, 4, 3, 8, 9, 10]\n"
          ]
        },
        {
          "output_type": "execute_result",
          "data": {
            "text/plain": [
              "[1, 2, 7, 6, 5, 4, 3, 8, 9, 10]"
            ]
          },
          "metadata": {},
          "execution_count": 18
        }
      ]
    },
    {
      "cell_type": "code",
      "source": [
        ""
      ],
      "metadata": {
        "id": "m2moWRejyU44"
      },
      "execution_count": null,
      "outputs": []
    }
  ]
}