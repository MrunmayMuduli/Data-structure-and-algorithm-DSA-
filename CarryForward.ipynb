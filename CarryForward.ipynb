{
  "nbformat": 4,
  "nbformat_minor": 0,
  "metadata": {
    "colab": {
      "name": "Untitled",
      "provenance": [],
      "include_colab_link": true
    },
    "kernelspec": {
      "name": "python3",
      "display_name": "Python 3"
    },
    "language_info": {
      "name": "python"
    }
  },
  "cells": [
    {
      "cell_type": "markdown",
      "metadata": {
        "id": "view-in-github",
        "colab_type": "text"
      },
      "source": [
        "<a href=\"https://colab.research.google.com/github/MrunmayMuduli/Data-structure-and-algorithm-DSA-/blob/main/CarryForward.ipynb\" target=\"_parent\"><img src=\"https://colab.research.google.com/assets/colab-badge.svg\" alt=\"Open In Colab\"/></a>"
      ]
    },
    {
      "cell_type": "code",
      "execution_count": null,
      "metadata": {
        "colab": {
          "base_uri": "https://localhost:8080/"
        },
        "id": "9KS-zYrc4Bfg",
        "outputId": "576484a6-70c6-4d23-c916-1fe0a634b2ad"
      },
      "outputs": [
        {
          "output_type": "stream",
          "name": "stdout",
          "text": [
            "1 2 3 4 \n",
            "2\n",
            "[3, 4, 1, 2]\n"
          ]
        }
      ],
      "source": [
        "def main():\n",
        "    # YOUR CODE GOES HERE\n",
        "    # Please take input and print output to standard input/output (stdin/stdout)\n",
        "    # E.g. 'input()/raw_input()' for input & 'print' for output\n",
        "    # print(1)\n",
        "    l = list(map(int, input().split()))\n",
        "    k = int(input())\n",
        "\n",
        "    # Initialise a list of size len(l)\n",
        "    ans = [None] * len(l)\n",
        "    \n",
        "    for i in range(len(l)):\n",
        "      ans[(i+k)%len(l)] = l[i]\n",
        "    print(ans)\n",
        "    # k = 2\n",
        "    # 0 -> 2\n",
        "    # 1 -> 3\n",
        "    # 2 -> 4/0\n",
        "    # 3 -> 5/1\n",
        "    return 0\n",
        "\n",
        "if __name__ == '__main__':\n",
        "    main()"
      ]
    },
    {
      "cell_type": "code",
      "source": [
        "# Range sums\n",
        "\n",
        "def solve(arr, queries):\n",
        "  # 1. Build the prefix sum array\n",
        "  n = len(arr)\n",
        "  pre = [None]*n\n",
        "  pre[0] = arr[0]\n",
        "  for i in range(1, n):\n",
        "    pre[i] = pre[i-1] + arr[i]\n",
        "  print(arr)\n",
        "  print(pre)\n",
        "  \n",
        "  # 2. Return answer to queries\n",
        "  for query in queries:\n",
        "    s = query[0]\n",
        "    e = query[1]\n",
        "    if s == 0:\n",
        "      print(pre[e])\n",
        "    else:\n",
        "      print(pre[e] - pre[s-1])\n",
        "\n",
        "\n",
        "'''\n",
        "pre[0] = a0\n",
        "pre[1] = a0 + a1\n",
        "\n",
        "pre[i] = a0 + a1 + a2 ... ai\n",
        "\n",
        "\n",
        "as  + as+1 + as+2        ae\n",
        "pre[as] = a0 + a1 ... as \n",
        "pre[ae] = a0 + a1    + as ...   ae\n",
        "\n",
        "pre[ae] - pre[as-1]\n",
        "'''"
      ],
      "metadata": {
        "id": "HfSRI97w4Dz2"
      },
      "execution_count": null,
      "outputs": []
    },
    {
      "cell_type": "code",
      "source": [
        "solve([-3, 6, 2, 4, 5, 2, 8, -9, 3, 1], [[2, 4], [3, 5], [1, 4], [0, 4]])"
      ],
      "metadata": {
        "colab": {
          "base_uri": "https://localhost:8080/"
        },
        "id": "Ya_mc6k-GCT5",
        "outputId": "4d2f804a-2ae3-456e-c56e-57ca1be75b4d"
      },
      "execution_count": null,
      "outputs": [
        {
          "output_type": "stream",
          "name": "stdout",
          "text": [
            "[-3, 6, 2, 4, 5, 2, 8, -9, 3, 1]\n",
            "[-3, 3, 5, 9, 14, 16, 24, 15, 18, 19]\n",
            "11\n",
            "11\n",
            "17\n",
            "14\n"
          ]
        }
      ]
    },
    {
      "cell_type": "code",
      "source": [
        "def solve(arr, queries):\n",
        "  n = len(arr)\n",
        "  preE = [arr[0]]\n",
        "  preO = [0]\n",
        "\n",
        "  for i in range(1, n):\n",
        "    if i%2==0:\n",
        "      preE.append(preE[i-1] + arr[i])\n",
        "    else:\n",
        "      preE.append(preE[i-1])\n",
        "\n",
        "  for i in range(1, n):\n",
        "    if i%2==1:\n",
        "      preO.append(preO[i-1] + arr[i])\n",
        "    else:\n",
        "      preO.append(preO[i-1])\n",
        "\n",
        "  for query in queries:\n",
        "    s = query[0]\n",
        "    e = query[1]\n",
        "    ch = query[2]\n",
        "\n",
        "    if ch == 'E':\n",
        "\n",
        "      # Handle edge case of s-1\n",
        "      if s == 0:\n",
        "        print(preE[e])\n",
        "      else:\n",
        "        print(preE[e] - preE[s-1])\n",
        "    else:\n",
        "      print(preO[e] - preO[s-1])\n",
        "    \n"
      ],
      "metadata": {
        "id": "Bb4hWV0_GmrI"
      },
      "execution_count": null,
      "outputs": []
    },
    {
      "cell_type": "code",
      "source": [
        "solve([1, 3, 4, 3,4 ,-12, 1, 0, -1], [[2, 5, 'E'], [1, 6, 'O'], [2, 6, 'E']])"
      ],
      "metadata": {
        "colab": {
          "base_uri": "https://localhost:8080/"
        },
        "id": "ISnRO6YUX5BT",
        "outputId": "8580411f-e834-471e-e007-2458168f31f0"
      },
      "execution_count": null,
      "outputs": [
        {
          "output_type": "stream",
          "name": "stdout",
          "text": [
            "8\n",
            "-6\n",
            "9\n"
          ]
        }
      ]
    },
    {
      "cell_type": "code",
      "source": [
        "# Closest min max \n",
        "\n",
        "def solve(a):\n",
        "  n = len(a)\n",
        "  mn = min(a)\n",
        "  mx = max(a)\n",
        "  ans = len(a)\n",
        "\n",
        "  # Mx .... mn\n",
        "  # Case 1\n",
        "\n",
        "  for i in range(n):\n",
        "    if a[i] == mx:\n",
        "      for j in range(i, n):\n",
        "        if a[j] == mn:\n",
        "          ans = min(ans, j - i + 1)\n",
        "\n",
        "  # Mn .... mx\n",
        "  # Case 2\n",
        "\n",
        "  for i in range(n):\n",
        "    if a[i] == mn:\n",
        "      for j in range(i, n):\n",
        "        if a[j] == mx:\n",
        "          ans = min(ans, j - i + 1)\n",
        "\n",
        "  return ans\n",
        "      "
      ],
      "metadata": {
        "id": "ZfwZfbOzYE13"
      },
      "execution_count": null,
      "outputs": []
    },
    {
      "cell_type": "code",
      "source": [
        "solve([2, 2, 6, 4, 5, 1, 5 ,4, 6, 4 ,3, 4, 1, 3])"
      ],
      "metadata": {
        "colab": {
          "base_uri": "https://localhost:8080/"
        },
        "id": "fvDy2Waxyv-c",
        "outputId": "7ea135c8-8a3e-4190-d540-3c64e195b986"
      },
      "execution_count": null,
      "outputs": [
        {
          "output_type": "execute_result",
          "data": {
            "text/plain": [
              "4"
            ]
          },
          "metadata": {},
          "execution_count": 12
        }
      ]
    },
    {
      "cell_type": "code",
      "source": [
        "solve([8, 8, 8, 8])"
      ],
      "metadata": {
        "colab": {
          "base_uri": "https://localhost:8080/"
        },
        "id": "0WmpgwLZy2X4",
        "outputId": "c085e14a-1b0f-45ea-a4ad-9348180b4b3a"
      },
      "execution_count": null,
      "outputs": [
        {
          "output_type": "execute_result",
          "data": {
            "text/plain": [
              "1"
            ]
          },
          "metadata": {},
          "execution_count": 11
        }
      ]
    },
    {
      "cell_type": "code",
      "source": [
        "def solve(a):\n",
        "  n = len(a)\n",
        "  mn = min(a)\n",
        "  mx = max(a)\n",
        "  ans = len(a)\n",
        "\n",
        "  if mx == mn:\n",
        "    return 1\n",
        "\n",
        "  min_ind = 9999999\n",
        "\n",
        "  # Mx .... mn\n",
        "  # Case 1\n",
        "\n",
        "  for i in range(n-1, -1, -1):\n",
        "    if a[i] == mx:\n",
        "      ans = min(ans, min_ind - i + 1)\n",
        "    if a[i] == mn:\n",
        "      min_ind = i\n",
        "\n",
        "  # Mn .... mx\n",
        "  # Case 2\n",
        "\n",
        "  max_ind = 99999 \n",
        "\n",
        "  for i in range(n-1, -1, -1):\n",
        "    if a[i] == mn:\n",
        "      ans = min(ans, max_ind - i + 1)\n",
        "    if a[i] == mx:\n",
        "      max_ind = i\n",
        "\n",
        "  return ans"
      ],
      "metadata": {
        "id": "Oaelh7xLzBta"
      },
      "execution_count": null,
      "outputs": []
    },
    {
      "cell_type": "code",
      "source": [
        "# Max sum subarray\n",
        "\n",
        "def max_sum(arr):\n",
        "  n = len(arr)\n",
        "  mx = None\n",
        "\n",
        "  # Iterating over possible values of s and e\n",
        "  for i in range(n):\n",
        "    for j in range(i, n):\n",
        "      print(i, j)\n",
        "\n",
        "\n",
        "      # Iterate over the subarray and find the sum of that particular subarray\n",
        "      sum = 0\n",
        "      for k in range(i, j + 1):\n",
        "        sum += arr[k]\n",
        "\n",
        "      # Finding max value of sum\n",
        "      if mx == None or mx < sum:\n",
        "        mx = sum\n",
        "  return mx"
      ],
      "metadata": {
        "id": "AA0zeuvf3vZz"
      },
      "execution_count": null,
      "outputs": []
    },
    {
      "cell_type": "code",
      "source": [
        "max_sum([2, -1, 4])"
      ],
      "metadata": {
        "colab": {
          "base_uri": "https://localhost:8080/"
        },
        "id": "iSuG919T43kI",
        "outputId": "2cd3b8b0-b909-4dfc-a5da-9fefeaa45d3a"
      },
      "execution_count": null,
      "outputs": [
        {
          "output_type": "stream",
          "name": "stdout",
          "text": [
            "0 0\n",
            "0 1\n",
            "0 2\n",
            "1 1\n",
            "1 2\n",
            "2 2\n"
          ]
        },
        {
          "output_type": "execute_result",
          "data": {
            "text/plain": [
              "5"
            ]
          },
          "metadata": {},
          "execution_count": 12
        }
      ]
    },
    {
      "cell_type": "code",
      "source": [
        "def max_sum_opti(arr):\n",
        "  n = len(arr)\n",
        "  mx = None\n",
        "\n",
        "  pref = [None] * n\n",
        "\n",
        "  pref[0] = arr[0]\n",
        "  for i in range(1, n):\n",
        "    pref[i] = pref[i-1] + arr[i]\n",
        "\n",
        "  print(pref)\n",
        "\n",
        "\n",
        "  # i = start\n",
        "  # j = end\n",
        "  for i in range(n):\n",
        "    for j in range(i, n):\n",
        "\n",
        "\n",
        "      if i == 0:\n",
        "        sum = pref[j]\n",
        "      else:\n",
        "        sum = pref[j] - pref[i-1]\n",
        "\n",
        "\n",
        "      if mx == None or mx < sum:\n",
        "        mx = sum\n",
        "  return mx"
      ],
      "metadata": {
        "id": "pskvZkGy5Gsa"
      },
      "execution_count": null,
      "outputs": []
    },
    {
      "cell_type": "code",
      "source": [
        "max_sum_opti([2, -3, 4, 9])"
      ],
      "metadata": {
        "colab": {
          "base_uri": "https://localhost:8080/"
        },
        "id": "wqtqDaOb5idm",
        "outputId": "7cd31bcc-40ca-48cc-daf1-b3183a494359"
      },
      "execution_count": null,
      "outputs": [
        {
          "output_type": "stream",
          "name": "stdout",
          "text": [
            "[2, -1, 3, 12]\n"
          ]
        },
        {
          "output_type": "execute_result",
          "data": {
            "text/plain": [
              "13"
            ]
          },
          "metadata": {},
          "execution_count": 15
        }
      ]
    },
    {
      "cell_type": "code",
      "source": [
        ""
      ],
      "metadata": {
        "id": "QECJ8yNU5nJU"
      },
      "execution_count": null,
      "outputs": []
    }
  ]
}